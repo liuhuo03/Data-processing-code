{
 "cells": [
  {
   "cell_type": "code",
   "execution_count": 2,
   "metadata": {},
   "outputs": [],
   "source": [
    "#reisdential\n",
    "\n",
    "import pandas as pd\n",
    "import numpy as np\n",
    "import os\n",
    "import time\n",
    "\n",
    "#get input file names and location\n",
    "file_path = os.getcwd()+\"\\charging loads\"\n",
    "output_path = os.getcwd()\n",
    "filepaths=[]\n",
    "for path, subdirs, files in os.walk(file_path):\n",
    "    for name in files:\n",
    "        filepaths.append(os.path.join(path, name))\n",
    "\n",
    "#residential load split\n",
    "ratios={'E21':0.245,'E23':0.262,'E26':0.193,'E29':0.300}\n",
    "\n",
    "#residential load output\n",
    "years=range(2018,2036)\n",
    "\n",
    "##loop for each type\n",
    "for type in ratios:\n",
    "    i=0\n",
    "    cumulative_dataframe=pd.DataFrame()\n",
    "    ##open each file and grab 'total_res_load' * ratio of that type to form a new dataframe\n",
    "    for path in filepaths:\n",
    "        data=pd.read_csv(path,header=0,usecols=['total_res_load'])\n",
    "        temp=data*ratios[type]\n",
    "        temp.columns=[years[i]]\n",
    "        cumulative_dataframe = pd.concat([cumulative_dataframe,temp],axis=1)\n",
    "        i=i+1\n",
    "    #output csv file\n",
    "    cumulative_dataframe.to_csv(output_path+'\\\\'+type+'_charging_load.csv', index=True)"
   ]
  },
  {
   "cell_type": "code",
   "execution_count": 6,
   "metadata": {},
   "outputs": [],
   "source": [
    "#workplace & public\n",
    "\n",
    "import pandas as pd\n",
    "import numpy as np\n",
    "import os\n",
    "import time\n",
    "\n",
    "#get input file names and location\n",
    "file_path = os.getcwd()+\"\\charging loads\"\n",
    "output_path = os.getcwd()\n",
    "filepaths=[]\n",
    "for path, subdirs, files in os.walk(file_path):\n",
    "    for name in files:\n",
    "        filepaths.append(os.path.join(path, name))\n",
    "\n",
    "#get data\n",
    "years=range(2018,2036)\n",
    "types={'workplace':'E36','public':'E32'}\n",
    "\n",
    "for type in types:\n",
    "    i=0\n",
    "    cumulative_dataframe=pd.DataFrame()\n",
    "    ##open each file and grab the right column to form a new data frame\n",
    "    for path in filepaths:\n",
    "        temp=pd.read_csv(path,header=0,usecols=['total_'+type+'_load'])\n",
    "        temp.columns=[years[i]]\n",
    "        cumulative_dataframe = pd.concat([cumulative_dataframe,temp],axis=1)\n",
    "        i=i+1\n",
    "    #output csv file\n",
    "    cumulative_dataframe.to_csv(output_path+'\\\\'+types[type]+'_charging_load.csv', index=True)"
   ]
  }
 ],
 "metadata": {
  "kernelspec": {
   "display_name": "Python 2",
   "language": "python",
   "name": "python2"
  },
  "language_info": {
   "codemirror_mode": {
    "name": "ipython",
    "version": 2
   },
   "file_extension": ".py",
   "mimetype": "text/x-python",
   "name": "python",
   "nbconvert_exporter": "python",
   "pygments_lexer": "ipython2",
   "version": "2.7.15"
  }
 },
 "nbformat": 4,
 "nbformat_minor": 2
}
